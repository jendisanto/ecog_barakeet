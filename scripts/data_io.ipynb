{
 "cells": [
  {
   "cell_type": "code",
   "execution_count": 3,
   "id": "bd8cbb63",
   "metadata": {},
   "outputs": [],
   "source": [
    "# modules\n",
    "import pandas as pd\n",
    "import sys\n",
    "import numpy as np\n",
    "from scipy.stats import zscore\n",
    "import matplotlib.pyplot as plt\n",
    "from matplotlib.pyplot import figure\n",
    "\n",
    "\n",
    "import ndx_ecog  # Even though we won't use this directly, we need to import it when reading our NWB files since we use the ECoG extension\n",
    "from pynwb import NWBHDF5IO\n",
    "from changlab_to_nwb.TDT_to_NWB import TDTtoNWB\n",
    "from mne.io import RawArray\n",
    "from mne import create_info, find_events, Epochs, concatenate_epochs\n",
    "\n",
    "# paths\n",
    "root_dir = '/Users/jenndisanto/Documents/2022/changlab-rotation'\n",
    "plot_dir = '%s/vis' % (root_dir)\n",
    "textgrid_dir = '%s/external/TextGrids' % (root_dir)\n"
   ]
  },
  {
   "cell_type": "code",
   "execution_count": 4,
   "id": "efc76699",
   "metadata": {},
   "outputs": [],
   "source": [
    "# helper script to get timing from the textgrids\n",
    "def event_timing(word, amb_level, tg_dir, time_lock):\n",
    "    from glob import glob\n",
    "\n",
    "    # build fname\"\n",
    "    fname = glob('%s/*_%s_*%s*.TextGrid' % (textgrid_dir, word, int(amb_level)))[0]\n",
    "\n",
    "    # load file\n",
    "    tg = pd.read_csv(fname)\n",
    "\n",
    "    # lock to moment\n",
    "    if time_lock == 'POD':\n",
    "        for ii in range(len(tg)):\n",
    "            if 'POD' in str(tg.values[ii]):\n",
    "                pod_timing = float(str(tg.values[ii+5]).split('= ')[1].split(' ')[0])\n",
    "\n",
    "    elif time_lock == 'word_offset':\n",
    "        for ii in range(len(tg)):\n",
    "            if 'word' in str(tg.values[ii]):\n",
    "                pod_timing = float(str(tg.values[ii+2]).split('= ')[1].split(' ')[0])\n",
    "\n",
    "    return pod_timing"
   ]
  },
  {
   "cell_type": "code",
   "execution_count": 5,
   "id": "8fd13bbc",
   "metadata": {},
   "outputs": [],
   "source": [
    "def rolling_window(array, window_size, freq):\n",
    "    shape = (array.shape[0] - window_size + 1, window_size)\n",
    "#     print(shape)\n",
    "    strides = (array.strides[0],) + array.strides\n",
    "#     print(strides)\n",
    "    rolled = np.lib.stride_tricks.as_strided(array, shape=shape, strides=strides)\n",
    "    return rolled[np.arange(0, shape[0], freq)]\n"
   ]
  },
  {
   "cell_type": "code",
   "execution_count": 6,
   "id": "b4754d53",
   "metadata": {},
   "outputs": [
    {
     "name": "stdout",
     "output_type": "stream",
     "text": [
      "Analysing data for EC243 B48..\n",
      "(array([ 243704,  336696,  423646,  527365,  606399,  686065,  771193,\n",
      "        893795,  985962, 1059817, 1149244, 1254623, 1348200]),)\n",
      "1\n"
     ]
    },
    {
     "data": {
      "text/plain": [
       "<Figure size 1280x480 with 0 Axes>"
      ]
     },
     "metadata": {},
     "output_type": "display_data"
    }
   ],
   "source": [
    "subject = 'EC243'\n",
    "block = '48'\n",
    "'''\n",
    "subject:    str, e.g. \"EC228\"\n",
    "blocks:     list, e.g. ['35', '36']\n",
    "data_type:  str, options: \"LFP\", \"high_gamma\"\n",
    "time_lock:  str, options: \"word_onset\", \"POD\", \"word_offset\"\n",
    "tmin:       float, seconds\n",
    "tmax:       float, seconds\n",
    "'''\n",
    "\n",
    "# paths\n",
    "data_dir = '%s/data-ecog' % (root_dir)\n",
    "logfile_dir = '%s/data/logfiles' % (root_dir)\n",
    "\n",
    "# loop through blocks to get epochs\n",
    "epoch_list = list()\n",
    "\n",
    "print('Analysing data for %s B%s..' % (subject, block))\n",
    "\n",
    "# load log file\n",
    "log = pd.read_csv('%s/%s_sequence_B%s.csv' % (logfile_dir, subject, block))\n",
    "\n",
    "# clean log file to just get auditory trials\n",
    "log = log.query(\"stim_number > 0\")\n",
    "\n",
    "# read nwb file\n",
    "nwb_path = '%s/%s_B%s.nwb' % (data_dir, subject, block)\n",
    "nwb_file_io = NWBHDF5IO(nwb_path, 'r')\n",
    "nwb_file = nwb_file_io.read()\n",
    "\n",
    "#         print(nwb_file.stimulus['speaker1'].data[0:100])\n",
    "\n",
    "speaker_data = nwb_file.stimulus['speaker1'].data[0:int(13745118/10)]\n",
    "\n",
    "data_len = speaker_data.shape[0]\n",
    "figure(figsize=(16, 6), dpi=80)\n",
    "\n",
    "\n",
    "speaker_rate = nwb_file.stimulus['speaker1'].rate\n",
    "silence_thresh = 0.08\n",
    "silence_len = int(0.5 * speaker_rate)\n",
    "\n",
    "\n",
    "data_bool = speaker_data > silence_thresh\n",
    "# print(sum(data_bool))\n",
    "windows = rolling_window(data_bool, silence_len, 1)\n",
    "# print(sum(windows[0]))\n",
    "silent_windows = ~np.array(list(map(np.any, windows)))\n",
    "# print(sum(silent_windows))\n",
    "switches = silent_windows[:-1] > silent_windows[1:]\n",
    "# print(sum(switches))\n",
    "idx = np.where(switches == True)\n",
    "# print(silent_windows)\n",
    "print(idx)\n",
    "print(len(idx))"
   ]
  },
  {
   "cell_type": "code",
   "execution_count": 9,
   "id": "691c69dd",
   "metadata": {},
   "outputs": [
    {
     "ename": "IndexError",
     "evalue": "invalid index to scalar variable.",
     "output_type": "error",
     "traceback": [
      "\u001b[0;31m---------------------------------------------------------------------------\u001b[0m",
      "\u001b[0;31mIndexError\u001b[0m                                Traceback (most recent call last)",
      "\u001b[0;32m<ipython-input-9-6b050014f752>\u001b[0m in \u001b[0;36m<module>\u001b[0;34m\u001b[0m\n\u001b[0;32m----> 1\u001b[0;31m \u001b[0ma\u001b[0m \u001b[0;34m=\u001b[0m \u001b[0mnp\u001b[0m\u001b[0;34m.\u001b[0m\u001b[0mreshape\u001b[0m\u001b[0;34m(\u001b[0m\u001b[0midx\u001b[0m\u001b[0;34m,\u001b[0m \u001b[0mlen\u001b[0m\u001b[0;34m(\u001b[0m\u001b[0midx\u001b[0m\u001b[0;34m[\u001b[0m\u001b[0;36m0\u001b[0m\u001b[0;34m]\u001b[0m\u001b[0;34m)\u001b[0m\u001b[0;34m)\u001b[0m\u001b[0;34m\u001b[0m\u001b[0;34m\u001b[0m\u001b[0m\n\u001b[0m\u001b[1;32m      2\u001b[0m \u001b[0mprint\u001b[0m\u001b[0;34m(\u001b[0m\u001b[0mnp\u001b[0m\u001b[0;34m.\u001b[0m\u001b[0mshape\u001b[0m\u001b[0;34m(\u001b[0m\u001b[0ma\u001b[0m\u001b[0;34m)\u001b[0m\u001b[0;34m)\u001b[0m\u001b[0;34m\u001b[0m\u001b[0;34m\u001b[0m\u001b[0m\n",
      "\u001b[0;31mIndexError\u001b[0m: invalid index to scalar variable."
     ]
    }
   ],
   "source": [
    "a = np.reshape(idx, len(idx[0]))\n",
    "print(np.shape(a))\n"
   ]
  },
  {
   "cell_type": "code",
   "execution_count": 8,
   "id": "43d36079",
   "metadata": {},
   "outputs": [
    {
     "data": {
      "text/plain": [
       "24414.0625"
      ]
     },
     "execution_count": 8,
     "metadata": {},
     "output_type": "execute_result"
    }
   ],
   "source": [
    "speaker_rate"
   ]
  },
  {
   "cell_type": "code",
   "execution_count": 6,
   "id": "d673918a",
   "metadata": {},
   "outputs": [
    {
     "data": {
      "image/png": "[encoded data removed]",
      "text/plain": [
       "<Figure size 1280x480 with 1 Axes>"
      ]
     },
     "metadata": {
      "needs_background": "light"
     },
     "output_type": "display_data"
    }
   ],
   "source": [
    "figure(figsize=(16, 6), dpi=80)\n",
    "start = 255700\n",
    "snip = speaker_data[start:257000]\n",
    "x = np.arange(len(snip))\n",
    "# print(idx[0][0])\n",
    "# plt.plot([idx[0][0]-start+silence_len,idx[0][0]-start+silence_len], [-0.5,1], color='r')\n",
    "plt.plot(np.arange(len(speaker_data)), speaker_data)\n",
    "for i in idx:\n",
    "    plt.plot([i+silence_len,i+silence_len], [-0.5,1], color='r')"
   ]
  },
  {
   "cell_type": "code",
   "execution_count": null,
   "id": "cec1d4a6",
   "metadata": {},
   "outputs": [],
   "source": [
    "#3-5ms jitter\n",
    "#check consistency within word\n",
    "#timelock ecog to onets - space & time distribution\n",
    "#matrix trials x time x space\n",
    "#start by averaging over first 200ms and over trials and plot magnitude in a grid of electrodes to find intereting electrodes\n",
    "#16x16 electrode grid\n",
    "#plot trials vs time\n"
   ]
  },
  {
   "cell_type": "code",
   "execution_count": 7,
   "id": "4e8bab13",
   "metadata": {},
   "outputs": [
    {
     "data": {
      "text/plain": [
       "[<matplotlib.lines.Line2D at 0x130451128>]"
      ]
     },
     "execution_count": 7,
     "metadata": {},
     "output_type": "execute_result"
    },
    {
     "data": {
      "image/png": "[encoded data removed]",
      "text/plain": [
       "<Figure size 1280x480 with 1 Axes>"
      ]
     },
     "metadata": {
      "needs_background": "light"
     },
     "output_type": "display_data"
    }
   ],
   "source": [
    "figure(figsize=(16, 6), dpi=80)\n",
    "i = idx[0][9] + silence_len\n",
    "window = 1000\n",
    "plt.plot(np.arange(window), speaker_data[i-500 : i+500])\n",
    "plt.plot([500,500], [-0.5,1], color='r')"
   ]
  },
  {
   "cell_type": "code",
   "execution_count": 66,
   "id": "f08cc629",
   "metadata": {},
   "outputs": [
    {
     "data": {
      "image/png": "[encoded data removed]",
      "text/plain": [
       "<Figure size 1280x480 with 1 Axes>"
      ]
     },
     "metadata": {
      "needs_background": "light"
     },
     "output_type": "display_data"
    }
   ],
   "source": [
    "figure(figsize=(16, 6), dpi=80)\n",
    "start = 255700\n",
    "snip = speaker_data[start:257000]\n",
    "x = np.arange(len(snip))\n",
    "# print(idx[0][0])\n",
    "# plt.plot([idx[0][0]-start+silence_len,idx[0][0]-start+silence_len], [-0.5,1], color='r')\n",
    "plt.plot(np.arange(len(speaker_data)), speaker_data)\n",
    "for i in idx:\n",
    "    plt.plot([i+silence_len,i+silence_len], [-0.5,1], color='r')"
   ]
  },
  {
   "cell_type": "code",
   "execution_count": 15,
   "id": "d3e35293",
   "metadata": {},
   "outputs": [
    {
     "name": "stdout",
     "output_type": "stream",
     "text": [
      "(array([], dtype=int64),)\n"
     ]
    }
   ],
   "source": [
    "print(idx)"
   ]
  },
  {
   "cell_type": "code",
   "execution_count": 17,
   "id": "3729e657",
   "metadata": {},
   "outputs": [
    {
     "data": {
      "text/plain": [
       "12207.0"
      ]
     },
     "execution_count": 17,
     "metadata": {},
     "output_type": "execute_result"
    }
   ],
   "source": [
    ".5*24414"
   ]
  },
  {
   "cell_type": "code",
   "execution_count": 48,
   "id": "7bebb790",
   "metadata": {},
   "outputs": [],
   "source": [
    "a = np.array([-2, 1])\n",
    "if all(x < 2 for x in np.abs(a)): print(\"ya\")\n"
   ]
  },
  {
   "cell_type": "code",
   "execution_count": null,
   "id": "6a97baf5",
   "metadata": {},
   "outputs": [],
   "source": [
    "13745118"
   ]
  },
  {
   "cell_type": "code",
   "execution_count": 21,
   "id": "eafd9b04",
   "metadata": {},
   "outputs": [
    {
     "data": {
      "text/plain": [
       "1374511"
      ]
     },
     "execution_count": 21,
     "metadata": {},
     "output_type": "execute_result"
    }
   ],
   "source": [
    "int(13745118/10)"
   ]
  },
  {
   "cell_type": "code",
   "execution_count": 61,
   "id": "9ec6a98b",
   "metadata": {},
   "outputs": [
    {
     "data": {
      "text/plain": [
       "False"
      ]
     },
     "execution_count": 61,
     "metadata": {},
     "output_type": "execute_result"
    }
   ],
   "source": [
    "True < True"
   ]
  },
  {
   "cell_type": "code",
   "execution_count": 106,
   "id": "d5fba3de",
   "metadata": {},
   "outputs": [
    {
     "name": "stdout",
     "output_type": "stream",
     "text": [
      "[False  True False]\n"
     ]
    }
   ],
   "source": [
    "a = [[True, True, True], [False, False, False], [True, True, True]]\n",
    "b = [False, False, False]\n",
    "c = ~np.array(list(map(np.any, a)))\n",
    "print(c)\n",
    "# print(np.any(b))\n",
    "# print(np.any(a))"
   ]
  },
  {
   "cell_type": "code",
   "execution_count": 95,
   "id": "9f35e351",
   "metadata": {},
   "outputs": [
    {
     "data": {
      "text/plain": [
       "array([ True, False, False])"
      ]
     },
     "execution_count": 95,
     "metadata": {},
     "output_type": "execute_result"
    }
   ],
   "source": [
    "a = np.array([-1, 2, 3])\n",
    "b = a < 0\n",
    "b"
   ]
  },
  {
   "cell_type": "code",
   "execution_count": null,
   "id": "8004bb98",
   "metadata": {},
   "outputs": [],
   "source": [
    "#         print(len(speaker_data)\n",
    "#         print(len(switches))\n",
    "\n",
    "#         while window_max < data_len - 1:\n",
    "#             #move window\n",
    "#             if window_min % 100 == 0: print(window_min/data_len)\n",
    "#             window_min += 1\n",
    "#             window_max += 1\n",
    "#             window = np.abs(speaker_data[window_min : window_max])\n",
    "            \n",
    "#             if silent:\n",
    "#                 #if updated window crosses threshold, we found a word onset\n",
    "#                 if np.abs(speaker_data[window_max]) >= silence_thresh:\n",
    "#                     onsets.append(window_max)\n",
    "#                     silent = False\n",
    "#             else:\n",
    "#                 #check if updated window is silent\n",
    "#                 if all(x < silence_thresh for x in np.abs(window)):\n",
    "#                     silent = True\n",
    "                \n",
    "#         print(len(onsets))\n",
    "#         # load ecog\n",
    "#         if data_type == 'raw':\n",
    "#             ecog = nwb_file.acquisition['LFP']\n",
    "#         elif data_type == 'high_gamma':  # this is for data that has been preprocessed through ecogVis\n",
    "#             ecog = nwb_file.processing['ecephys']['high_gamma']\n",
    "#         elif data_type == 'LFP':\n",
    "#             ecog = nwb_file.processing['ecephys']['LFP']['preprocessed']\n",
    "#         ecog_array = ecog.data.__array__()\n",
    "\n",
    "        # get params of the data\n",
    "#         sfreq = ecog.rate\n",
    "# #         print('sfreq')\n",
    "# #         print(sfreq)\n",
    "#         ch_names = nwb_file.electrodes.label.data.__array__().tolist()\n",
    "#         bads_bool = nwb_file.electrodes['bad'].data.__array__()\n",
    "\n",
    "#         # set bads to zero\n",
    "#         ecog_array[:, bads_bool] = 0\n",
    "\n",
    "#         # zscore raw\n",
    "#         ecog_array = zscore(ecog_array, axis=0)\n",
    "\n",
    "#         # get time stamps (i think these aren't perfect -- check them)\n",
    "#         event_samples = nwb_file.intervals['TimeIntervals_speaker']['start_time'].data.__array__()\n",
    "#         plt.plot(event_samples)\n",
    "#         event_times = event_samples * sfreq\n",
    "\n",
    "#         # time lock options\n",
    "#         if time_lock == 'POD' or time_lock == 'word_offset':\n",
    "#             event_shifts = list()\n",
    "#             for word, amb_level in log[['auditory_word', 'ambiguity']].values:\n",
    "#                 shift = event_timing(word, amb_level, textgrid_dir, time_lock)\n",
    "#                 event_shifts.append(int(shift*sfreq))\n",
    "#             event_shifts = np.array(event_shifts)\n",
    "\n",
    "#         else:\n",
    "#             event_shifts = np.zeros(len(log))\n",
    "\n",
    "#         # put this into an mne raw object\n",
    "#         info = create_info(ch_names, sfreq, ch_types='ecog')\n",
    "#         raw = RawArray(ecog_array.T, info)\n",
    "#         raw.info['bads'] = np.array(raw.info['ch_names'])[bads_bool].tolist()\n",
    "\n",
    "#         # make epochs\n",
    "#         events = np.array([[0, 0, 0]]*len(event_times))\n",
    "#         events[:, 0] = [int(t) for t in event_times] + event_shifts\n",
    "#         epochs = Epochs(raw, events, tmin=tmin, tmax=tmax, metadata=log, preload=True,\n",
    "#                         baseline=None)\n",
    "#         epoch_list.append(epochs)\n",
    "    \n",
    "    # need to fix this -- bads need to be the same over blocks\n",
    "#     ep_info = epoch_list[0].info\n",
    "#     for eps in epoch_list:\n",
    "#         eps.info = ep_info\n",
    "\n",
    "#     # concatenate the epochs together\n",
    "#     epochs = concatenate_epochs(epoch_list)\n",
    "\n",
    "#     # add properties to metadata\n",
    "    \n",
    "#     # mirror slider so that the numbers match the acoustics not the lexical\n",
    "#     acoustic_slider = list()\n",
    "#     binned_responses = list()\n",
    "#     flips = ['desolate', 'beneficial', 'mountains']\n",
    "#     for word_end, slider_resp, block_type in epochs.metadata[['word_end',\n",
    "#                                                               'slider.response',\n",
    "#                                                               'block_type']].values:\n",
    "\n",
    "#         # depends on the block type\n",
    "#         if block_type == 1:\n",
    "#             if word_end in flips:\n",
    "#                 val = np.abs(slider_resp - 11)\n",
    "#             else:\n",
    "#                 val = slider_resp\n",
    "#             acoustic_slider.append(val)\n",
    "\n",
    "#         # depends on block type\n",
    "#         if block_type == 2:\n",
    "#             if word_end in flips:\n",
    "#                 val = slider_resp\n",
    "#             else:\n",
    "#                 val = np.abs(slider_resp - 11)\n",
    "#             acoustic_slider.append(val)\n",
    "\n",
    "#         # a categorisation of behaviour into three classes\n",
    "#         if val < 2:\n",
    "#             binned_responses.append(1)\n",
    "#         elif val >= 2 and val < 8:\n",
    "#             binned_responses.append(2)\n",
    "#         elif val >= 8:\n",
    "#             binned_responses.append(3)\n",
    "\n",
    "#     epochs.metadata['binned_responses'] = binned_responses\n",
    "#     epochs.metadata['acoustic_slider'] = acoustic_slider\n",
    "\n",
    "#     return epochs\n"
   ]
  }
 ],
 "metadata": {
  "kernelspec": {
   "display_name": "Python 3",
   "language": "python",
   "name": "python3"
  },
  "language_info": {
   "codemirror_mode": {
    "name": "ipython",
    "version": 3
   },
   "file_extension": ".py",
   "mimetype": "text/x-python",
   "name": "python",
   "nbconvert_exporter": "python",
   "pygments_lexer": "ipython3",
   "version": "3.6.8"
  }
 },
 "nbformat": 4,
 "nbformat_minor": 5
}
